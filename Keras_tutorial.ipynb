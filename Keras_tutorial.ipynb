{
  "nbformat": 4,
  "nbformat_minor": 0,
  "metadata": {
    "colab": {
      "name": "Keras_tut.ipynb",
      "version": "0.3.2",
      "provenance": [],
      "collapsed_sections": [
        "fVz8FGipwCmo",
        "OPqOgRwermwo",
        "yyQNZLryryAH",
        "-tofak47ujX_",
        "c9j3zCulZ2os",
        "xvp27WA6Z51H",
        "kQ-_l4j3uuGV"
      ]
    },
    "kernelspec": {
      "name": "python3",
      "display_name": "Python 3"
    },
    "accelerator": "GPU"
  },
  "cells": [
    {
      "metadata": {
        "id": "pgVIWb-ou1iD",
        "colab_type": "text"
      },
      "cell_type": "markdown",
      "source": [
        "![alt text](https://www.ru.is/skin/basic9k/i/sitelogo.svg =500x \"Reykjavik University Logo\")\n",
        "\n",
        "LAB 1\n",
        "---\n",
        "\n",
        "T-796-DEEP, Introduction to Deep Learning, 2018-3\n",
        "\n",
        "---\n",
        "\n",
        "Atli Egilsson - atlie15@ru.is\n",
        "\n",
        "Egill Anton Hlöðversson - egilla14@ru.is\n",
        "\n",
        "---\n",
        "\n",
        "An Introduction to \n",
        "* Jupiter Notebook\n",
        "* Google Colab\n",
        "* Keras "
      ]
    },
    {
      "metadata": {
        "id": "e3LNyBWKv98F",
        "colab_type": "text"
      },
      "cell_type": "markdown",
      "source": [
        "# Introduction"
      ]
    },
    {
      "metadata": {
        "id": "fVz8FGipwCmo",
        "colab_type": "text"
      },
      "cell_type": "markdown",
      "source": [
        "## Jupyter Notebook"
      ]
    },
    {
      "metadata": {
        "id": "h5ha7jOhx2zZ",
        "colab_type": "text"
      },
      "cell_type": "markdown",
      "source": [
        "\n",
        "\n",
        "![alt text](http://jupyter.org/assets/main-logo.svg =250x \"Jupyter Logo\")\n",
        "\n",
        "\n",
        "http://jupyter.org/\n",
        "\n",
        "\n",
        "Web application that allows you to create and share documents that contain live code, equations, visualizations and narrative text."
      ]
    },
    {
      "metadata": {
        "id": "pXZMINGswHgo",
        "colab_type": "text"
      },
      "cell_type": "markdown",
      "source": [
        "## Google Colab"
      ]
    },
    {
      "metadata": {
        "id": "5RPVKi9SyuHq",
        "colab_type": "text"
      },
      "cell_type": "markdown",
      "source": [
        "\n",
        "![alt text](https://rocketbootstrapper.com/fr/wp-content/uploads/sites/2/2018/05/colab.png =250x \"Colab Logo\")\n",
        "\n",
        "\n",
        "A free cloud service for running Jupyter Notebooks, top features:\n",
        "\n",
        "\n",
        "* Free GPU, TPU support\n",
        "* Colaberation, many can work in the same file at once\n",
        "* Out of the box support for many libraries:\n",
        "\n",
        "\n",
        "> *   TensorFlow\n",
        "*   Keras\n",
        "* Theano\n",
        "* NTLK\n",
        "* Numpy\n",
        "* ...\n",
        "\n",
        "\n",
        "\n",
        "\n",
        "\n"
      ]
    },
    {
      "metadata": {
        "id": "eJtIBFCXwMzF",
        "colab_type": "text"
      },
      "cell_type": "markdown",
      "source": [
        "## Keras\n"
      ]
    },
    {
      "metadata": {
        "id": "3GEJHQq5nQEy",
        "colab_type": "text"
      },
      "cell_type": "markdown",
      "source": [
        "\n",
        "![alt text](https://s3.amazonaws.com/keras.io/img/keras-logo-2018-large-1200.png =250x \"Colab Logo\")\n",
        "\n",
        "Keras is a high-level neural networks API, written in Python and capable of running on top of TensorFlow, CNTK, or Theano. It was developed with a focus on enabling fast experimentation. Being able to go from idea to result with the least possible delay is key to doing good research."
      ]
    },
    {
      "metadata": {
        "id": "6tC-tonhnlI_",
        "colab_type": "text"
      },
      "cell_type": "markdown",
      "source": [
        "# Your Code"
      ]
    },
    {
      "metadata": {
        "id": "xa1Et_jenrAs",
        "colab_type": "code",
        "colab": {}
      },
      "cell_type": "code",
      "source": [
        "import sys"
      ],
      "execution_count": 0,
      "outputs": []
    }
  ]
}